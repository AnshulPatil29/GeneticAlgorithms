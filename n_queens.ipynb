{
  "nbformat": 4,
  "nbformat_minor": 0,
  "metadata": {
    "colab": {
      "provenance": []
    },
    "kernelspec": {
      "name": "python3",
      "display_name": "Python 3"
    },
    "language_info": {
      "name": "python"
    }
  },
  "cells": [
    {
      "cell_type": "code",
      "execution_count": 4,
      "metadata": {
        "id": "sWwpjdiQn4vP"
      },
      "outputs": [],
      "source": [
        "import numpy as np\n",
        "import random\n",
        "import math"
      ]
    },
    {
      "cell_type": "code",
      "source": [
        "class N_queens_solver:\n",
        "  def __init__(self,N:int,num_solutions:int):\n",
        "    self.N=N\n",
        "    self.num_solutions=num_solutions\n",
        "    self.population=np.random.randint(0,N,(num_solutions,N),dtype=int)\n",
        "    self.max_fitness=math.comb(N,2)\n",
        "    pass\n",
        "\n",
        "  def calculate_fitness(self):\n",
        "    fitness=np.zeros(self.num_solutions)\n",
        "    for _ in range(self.num_solutions):\n",
        "      upper_diagonal,lower_diagonal,horizontal=np.zeros(self.N*2-1),np.zeros(self.N*2-1),np.zeros(self.N)\n",
        "\n",
        "\n"
      ],
      "metadata": {
        "id": "5To0rdNJn7f6"
      },
      "execution_count": null,
      "outputs": []
    }
  ]
}